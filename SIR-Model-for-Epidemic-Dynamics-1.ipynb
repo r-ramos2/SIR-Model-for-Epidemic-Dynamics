{
  "metadata": {
    "kernelspec": {
      "name": "python",
      "display_name": "Python (Pyodide)",
      "language": "python"
    },
    "language_info": {
      "codemirror_mode": {
        "name": "python",
        "version": 3
      },
      "file_extension": ".py",
      "mimetype": "text/x-python",
      "name": "python",
      "nbconvert_exporter": "python",
      "pygments_lexer": "ipython3",
      "version": "3.8"
    }
  },
  "nbformat_minor": 4,
  "nbformat": 4,
  "cells": [
    {
      "cell_type": "markdown",
      "source": "# SIR Model - Epidemic Dynamics",
      "metadata": {
        "tags": []
      }
    },
    {
      "cell_type": "markdown",
      "source": "**Simple SIR Model - Activity ONE**",
      "metadata": {}
    },
    {
      "cell_type": "code",
      "source": "import numpy as np\nimport numpy.linalg as npl\nimport math\nimport matplotlib.pyplot as plt\nfrom scipy.integrate import odeint",
      "metadata": {
        "tags": [],
        "trusted": true
      },
      "outputs": [],
      "execution_count": null
    },
    {
      "cell_type": "code",
      "source": "#Shortest Mathplotlib tutorial ever.\n#Just use this - you need to arrange the data each time as below -\n#but really you don't need all the bells and whistles.\nimport matplotlib.pyplot as plt\n\nnumber_of_days = [1, 2, 3, 4]\nsusceptible = [1,  9, 3, 1]\ninfected = [1,  9, 3, 1]\nrecovered = [1,  2, 4, 4]\n\nplt.plot([1, 2, 3, 4], [1,  9, 3, 1])\nplt.plot([1, 2, 3, 4], [16, 7, 5, 2])\nplt.plot([1, 2, 3, 4], [1,  2, 4, 4])",
      "metadata": {
        "tags": [],
        "trusted": true
      },
      "outputs": [],
      "execution_count": null
    },
    {
      "cell_type": "code",
      "source": "number_of_days = [1, 2, 3, 4]\nsusceptible = [1,  9, 3, 1]\ninfected = [16, 7, 5, 2]\nrecovered = [0.9, 1.8, 3.6, 3.6]\ndeceased = [0.1, 0.2, 0.4, 0.4]\n\nplt.plot(number_of_days, susceptible, label='Susceptible')\nplt.plot(number_of_days, infected, label='Infected')\nplt.plot(number_of_days, recovered, label='Recovered')\nplt.plot(number_of_days, deceased, label='Deceased')\n\nplt.xlabel('Number of Days (t)')\nplt.ylabel('Number of Individuals')\nplt.title('Population Dynamics Over Time')\nplt.legend()\nplt.grid(True)  # Add gridlines for better readability\nplt.show()",
      "metadata": {
        "tags": [],
        "trusted": true
      },
      "outputs": [],
      "execution_count": null
    },
    {
      "cell_type": "code",
      "source": "#Use Pseudocode from Calculus in Context, Chapter 2 page 69 to plot the 3 functions S, I and R. \n#Use a (.00001)and b (14) as varibles instead of numbers\n#Use a fixed plot window with y as the total height and fix the number of days you want to explore.\n#Once it is working, add a new rate equation for Deaths by splitting up the \"Recovered\" 2 equations.\n#For example 10 percent pass to death and 90 percent pass to recovered.\n#Please comment your code.\n\n#CODE HERE\n# Initial conditions and parameters\ntinitial = 0  # Start at Day 0\ntfinal = 30  # Total number of days\nt = tinitial\n\na = 0.00001  # Percent of people that had contact and were infected\nb = 14  # Number of days it takes to recover from an infection\n\nS = 45400  # Number of Susceptible people\nI = 2100  # Number of Infected people\nR = 2500  # Number of Recovered people\nD = 0.1 * R  # Number of Deceased people = 10% from Recovered\nR = 0.9 * R  # Adjusted recovered population after subtracting deaths\n\nnumberofsteps = 30  # Number of divisions in the graph\ndeltat = (tfinal - tinitial) / numberofsteps  # Time step size\n\n# Arrays to store results\ns = [S]\ni = [I]\nr = [R]\nd = [D]\nT = [t]\n\n# Time evolution loop\nfor k in range(1, numberofsteps + 1):\n    # Rate equations\n    Sprime = -a * S * I\n    Iprime = a * S * I - I / b\n    Rprime = (I / b) * 0.9  # 90% of recovered people\n    Dprime = (I / b) * 0.1  # 10% of infected people pass to deceased\n\n    # Update the values using the rate equations\n    deltaS = Sprime * deltat\n    deltaI = Iprime * deltat\n    deltaR = Rprime * deltat\n    deltaD = Dprime * deltat\n\n    # Update S, I, R, D for the next step\n    S = S + deltaS\n    I = I + deltaI\n    R = R + deltaR\n    D = D + deltaD\n    t = t + deltat\n\n    # Append the new values to the arrays\n    s.append(S)\n    i.append(I)\n    r.append(R)\n    d.append(D)\n    T.append(t)\n\n# Plotting the results after the loop\nplt.plot(T, s, color='dodgerblue', label='Susceptible')\nplt.plot(T, i, color='orange', label='Infected')\nplt.plot(T, r, color='olivedrab', label='Recovered')\nplt.plot(T, d, color='brown', label='Deceased')\n\n# Label the graph\nplt.xlabel('Number of Days (t)')\nplt.ylabel('Number of Individuals')\nplt.legend()\n\n# Display the plot\nplt.grid(True)\nplt.title('SIR Model with Deaths')\nplt.show()",
      "metadata": {
        "tags": [],
        "trusted": true
      },
      "outputs": [],
      "execution_count": null
    },
    {
      "cell_type": "markdown",
      "source": "**Question 1:**\nTest your model with a = .00001 and b = 10 over 50 days and check with the given textbook. Show the output. Provide simple context for this model with comments or text.\n\nANSWER: \nWhen graphing the results of an epidemic, the Susceptible function always starts with a downward curve because nobody has become infected. Similarly, the Infected curve is the opposite of the Susceptible curve because, to declare a person as recovered or deceased, first they must be infected. Notice how the Infected curve has a bell shape. After this curve reaches its peak, there are one of two outcomes: recovery or death. Moreover, Recovered can be split into two parts: Recovered and Deceased. The reason is that not everyone that is infected recovers. Finally, the percentage of Recovered and Deceased must add up to 100%. After 50 days, the graph has the same four curves (S, I, R, and D) as the graph on pp. 100 of the Calculus in Context textbook, which tells us our model is correct (see graph below).",
      "metadata": {
        "tags": []
      }
    },
    {
      "cell_type": "code",
      "source": "# Initial conditions and parameters\ntinitial = 0  # Start at Day 0\ntfinal = 50  # Total number of days for the simulation\nt = tinitial  # Initialize time at 0\n\na = 0.00001  # Infection rate per contact\nb = 10  # Number of days it takes to recover from an infection\n\n# Initial population groups\nS = 45400  # Initial number of susceptible people\nI = 2100  # Initial number of infected people\nR = 2500  # Initial number of recovered people\n\n# Calculate initial deaths\nD = 0.1 * R  # 10% of recovered people are deceased\nR = 0.9 * R  # 90% of recovered people remain recovered\n\nnumberofsteps = 100  # Increased number of time steps for better resolution\ndeltat = (tfinal - tinitial) / numberofsteps  # Time step size\n\n# Arrays to store the results\ns = [S]  # Array for susceptible values\ni = [I]  # Array for infected values\nr = [R]  # Array for recovered values\nd = [D]  # Array for deceased values\nT = [t]  # Array for time values\n\n# Time evolution loop to compute the values at each time step\nfor k in range(1, numberofsteps + 1):\n    # Rate equations (S', I', R', D')\n    Sprime = -a * S * I  # Change in susceptible\n    Iprime = a * S * I - I / b  # Change in infected\n    Rprime = (I / b) * 0.9  # 90% of the infected recover\n    Dprime = (I / b) * 0.1  # 10% of the infected die\n\n    # Update the values using the rate equations\n    deltaS = Sprime * deltat\n    deltaI = Iprime * deltat\n    deltaR = Rprime * deltat\n    deltaD = Dprime * deltat\n\n    # Update S, I, R, D for the next time step\n    S = S + deltaS\n    I = I + deltaI\n    R = R + deltaR\n    D = D + deltaD\n    t = t + deltat\n\n    # Append the updated values to the arrays\n    s.append(S)\n    i.append(I)\n    r.append(R)\n    d.append(D)\n    T.append(t)\n\n# Plotting the results after the loop\nplt.plot(T, s, color='dodgerblue', label='Susceptible')\nplt.plot(T, i, color='orange', label='Infected')\nplt.plot(T, r, color='olivedrab', label='Recovered')\nplt.plot(T, d, color='brown', label='Deceased')\n\n# Add labels, title, and legend to the graph\nplt.xlabel('Number of Days (t)')\nplt.ylabel('Number of Individuals')\nplt.title('SIR Model with Deaths over 50 Days (a=0.00001, b=10)')\nplt.legend()\n\n# Show the plot with a grid\nplt.grid(True)\nplt.show()",
      "metadata": {
        "trusted": true
      },
      "outputs": [],
      "execution_count": null
    },
    {
      "cell_type": "markdown",
      "source": "**Question 2:** Using your SIRPLOT code above, explore what happens when you change the length of time a disease takes to recover (which may happen with a new medicine for example). Provide examples from your model in code blocks and context and explanation in textblocks.\n\nANSWER: By changing coefficient b, we see the number of days it takes for any given person to recover while remaining infected and contagious between Susceptible and Recovered (i.e., one sick person takes 14 days to recover equals 1/14, where b = 14). If b = 1, it only takes a person one day to recover, which means the medicine is highly effective as it cures more people, and rarely does anybody die. Similarly, the epidemic is short-lived, with S, I, R, and D only seeing slight changes, and the graph becomes flat (no new cases). To add some perspective (although hopefully not a realistic one), if it takes a person 100 days to recover (i.e., b = 100), then the Infection curve will be taller and longer lasting than the Recovered curve. In 50 days, this would be a bad scenario for medicine, as researchers would not know if there is a cure. An intermediate case would be one where an epidemic lasts 50 days (tfinal = 50), and the recovery time is also 50 days (b = 50). In this case,  the Infected and Recovered curve would reach a break-even point with a 50% chance of being either. The death rate would be considerably higher in the last two cases than in the first. To be more realistic, even at 14 days to recover, the Infection curve is still quite high, which also increases the death rate.",
      "metadata": {
        "tags": []
      }
    },
    {
      "cell_type": "code",
      "source": "# Initial conditions and parameters for fast recovery (b = 1)\ntinitial = 0  # Start at Day 0\ntfinal = 50  # Total number of days for simulation\nt = tinitial\n\na = 0.00001  # Infection rate per contact\nb = 1  # Number of days it takes to recover from an infection (very fast recovery)\n\n# Initial population groups\nS = 45400  # Initial number of susceptible people\nI = 2100  # Initial number of infected people\nR = 2500  # Initial number of recovered people\nD = 0.1 * R  # 10% of recovered people are deceased\nR = 0.9 * R  # Remaining 90% of recovered people\n\nnumberofsteps = 100  # Increased number of time steps for better resolution\ndeltat = (tfinal - tinitial) / numberofsteps  # Time step size\n\n# Arrays to store results\ns = [S]  # Array for susceptible values\ni = [I]  # Array for infected values\nr = [R]  # Array for recovered values\nd = [D]  # Array for deceased values\nT = [t]  # Array for time values\n\n# Time evolution loop\nfor k in range(1, numberofsteps + 1):\n    # Rate equations\n    Sprime = -a * S * I\n    Iprime = a * S * I - I / b\n    Rprime = (I / b) * 0.9\n    Dprime = (I / b) * 0.1\n\n    # Update values\n    deltaS = Sprime * deltat\n    deltaI = Iprime * deltat\n    deltaR = Rprime * deltat\n    deltaD = Dprime * deltat\n\n    S += deltaS\n    I += deltaI\n    R += deltaR\n    D += deltaD\n    t += deltat\n\n    # Append new values\n    s.append(S)\n    i.append(I)\n    r.append(R)\n    d.append(D)\n    T.append(t)\n\n# Plotting the results\nplt.plot(T, s, color='dodgerblue', label='Susceptible')\nplt.plot(T, i, color='orange', label='Infected')\nplt.plot(T, r, color='olivedrab', label='Recovered')\nplt.plot(T, d, color='brown', label='Deceased')\n\n# Label the graph\nplt.xlabel('Number of Days (t)')\nplt.ylabel('Number of Individuals')\nplt.title('SIR Model with Fast Recovery (1 Day)')\nplt.legend()\nplt.grid(True)\nplt.show()",
      "metadata": {
        "trusted": true
      },
      "outputs": [],
      "execution_count": null
    },
    {
      "cell_type": "code",
      "source": "# Initial conditions and parameters for slow recovery (b = 14)\ntinitial = 0  # Start at Day 0\ntfinal = 50  # Total number of days for simulation\nt = tinitial\n\na = 0.00001  # Infection rate per contact\nb = 14  # Number of days it takes to recover from an infection (slower recovery)\n\n# Initial population groups\nS = 45400  # Initial number of susceptible people\nI = 2100  # Initial number of infected people\nR = 2500  # Initial number of recovered people\nD = 0.1 * R  # 10% of recovered people are deceased\nR = 0.9 * R  # Remaining 90% of recovered people\n\nnumberofsteps = 100  # Increased number of time steps for better resolution\ndeltat = (tfinal - tinitial) / numberofsteps  # Time step size\n\n# Arrays to store results\ns = [S]\ni = [I]\nr = [R]\nd = [D]\nT = [t]\n\n# Time evolution loop\nfor k in range(1, numberofsteps + 1):\n    # Rate equations\n    Sprime = -a * S * I\n    Iprime = a * S * I - I / b\n    Rprime = (I / b) * 0.9\n    Dprime = (I / b) * 0.1\n\n    # Update values\n    deltaS = Sprime * deltat\n    deltaI = Iprime * deltat\n    deltaR = Rprime * deltat\n    deltaD = Dprime * deltat\n\n    S += deltaS\n    I += deltaI\n    R += deltaR\n    D += deltaD\n    t += deltat\n\n    # Append new values\n    s.append(S)\n    i.append(I)\n    r.append(R)\n    d.append(D)\n    T.append(t)\n\n# Plotting the results\nplt.plot(T, s, color='dodgerblue', label='Susceptible')\nplt.plot(T, i, color='orange', label='Infected')\nplt.plot(T, r, color='olivedrab', label='Recovered')\nplt.plot(T, d, color='brown', label='Deceased')\n\n# Label the graph\nplt.xlabel('Number of Days (t)')\nplt.ylabel('Number of Individuals')\nplt.title('SIR Model with Slow Recovery (14 Days)')\nplt.legend()\nplt.grid(True)\nplt.show()",
      "metadata": {
        "trusted": true
      },
      "outputs": [],
      "execution_count": null
    },
    {
      "cell_type": "markdown",
      "source": "**Question 3:** Using your SIRPLOT code above, explore what happens to the course of a disease when you change the transmission coeffient a (which happens if people self-isolate for example). Provide examples from your model in code blocks and context and explanation in textblocks.\n\nANSWER: By changing coefficient a, we determine how many contacts that occur that also lead to infections (i.e., 1 infection out of 100,000 people equals 1/100,000 = 0.00001 = a). Within a 50-day period, if coefficient a = 0.00001 (1 positive case of infection for every 100,000 people), the curves S, I, R, and D behave like the graph in pp. 100 of the Calculus Companion textbook. By decreasing coefficient a to 0.000001, we notice a slight change in rate for each curve, but not enough to consider a medical emergency. In other words, very few people become infected or die, and a few reasons for this may be herd immunity, mandated self-isolation for the time it takes to recover to avoid contaminating other individuals, or advanced medicine. On the contrary, if 3 out of 100,000 persons become infected (a = 0.00003),  the Infection curve spikes within the first 6 to 7 days. Because the number of days remains unchanged at b = 10, a high percentage of people recover at a higher rate on day 12. However, infections are also related to deaths, which means that the Deceased curve also increases. In cases with high infection rates, government mandates to stay indoors would absolutely help in flattening the infection curve, at least until a cure is found or immunity is developed.",
      "metadata": {}
    },
    {
      "cell_type": "code",
      "source": "# Initial conditions and parameters\ntinitial = 0  # Start at Day 0\ntfinal = 50  # Total number of days\nt = tinitial\n\n# Decreased transmission coefficient\na = 0.000001  # Infection rate per contact (lower due to isolation)\nb = 14  # Number of days it takes to recover from an infection\n\n# Initial population groups\nS = 45400  # Number of susceptible people\nI = 2100  # Initial number of infected people\nR = 2500  # Initial number of recovered people\nD = 0.1 * R  # 10% of recovered people are deceased\n\nnumberofsteps = 100  # Increased number of time steps for better resolution\ndeltat = (tfinal - tinitial) / numberofsteps  # Time step size\n\n# Arrays to store results\ns = [S]  # Array for susceptible values\ni = [I]  # Array for infected values\nr = [R]  # Array for recovered values\nd = [D]  # Array for deceased values\nT = [t]  # Array for time values\n\n# Time evolution loop\nfor k in range(1, numberofsteps + 1):\n    # Rate equations\n    Sprime = -a * S * I  # Change in susceptible population\n    Iprime = a * S * I - I / b  # Change in infected population\n    Rprime = (I / b) * 0.9  # 90% of infected recover\n    Dprime = (I / b) * 0.1  # 10% of infected die\n\n    # Update values\n    deltaS = Sprime * deltat\n    deltaI = Iprime * deltat\n    deltaR = Rprime * deltat\n    deltaD = Dprime * deltat\n\n    S += deltaS\n    I += deltaI\n    R += deltaR\n    D += deltaD\n    t += deltat\n\n    # Append new values\n    s.append(S)\n    i.append(I)\n    r.append(R)\n    d.append(D)\n    T.append(t)\n\n# Plotting the results\nplt.plot(T, s, color='dodgerblue', label='Susceptible')\nplt.plot(T, i, color='orange', label='Infected')\nplt.plot(T, r, color='olivedrab', label='Recovered')\nplt.plot(T, d, color='brown', label='Deceased')\n\n# Label the graph\nplt.xlabel('Number of Days (t)')\nplt.ylabel('Number of Individuals')\nplt.title('SIR Model with Lower Transmission Coefficient (a = 0.000001)')\nplt.legend()\nplt.grid(True)\nplt.show()",
      "metadata": {
        "trusted": true
      },
      "outputs": [],
      "execution_count": null
    },
    {
      "cell_type": "code",
      "source": "# Initial conditions and parameters\ntinitial = 0  # Start at Day 0\ntfinal = 50  # Total number of days\nt = tinitial\n\na = 0.00003  # Infection rate per contact\nb = 14  # Number of days it takes to recover from an infection\n\n# Initial population groups\nS = 45400  # Number of susceptible people\nI = 2100  # Number of infected people\nR = 2500  # Number of recovered people\nD = 0.1 * R  # Number of deceased people (10% of recovered)\n\nnumberofsteps = 30  # Number of divisions in the graph\ndeltat = (tfinal - tinitial) / numberofsteps  # Time step size\n\n# Arrays to store results\ns = [S]  # Array for susceptible values\ni = [I]  # Array for infected values\nr = [R]  # Array for recovered values\nd = [D]  # Array for deceased values\nT = [t]  # Array for time values\n\n# Time evolution loop\nfor k in range(1, numberofsteps + 1):\n    # Rate equations\n    Sprime = -a * S * I\n    Iprime = a * S * I - I / b\n    Rprime = I / b\n    Dprime = Rprime * 0.1\n\n    # Update the values using the rate equations\n    deltaS = Sprime * deltat\n    deltaI = Iprime * deltat\n    deltaR = Rprime * deltat\n    deltaD = Dprime * deltat\n\n    # Update S, I, R, D for the next step\n    S += deltaS\n    I += deltaI\n    R += deltaR\n    D += deltaD\n    t += deltat\n\n    # Append the new values to the arrays\n    s.append(S)\n    i.append(I)\n    r.append(R)\n    d.append(D)\n    T.append(t)\n\n# Plotting the results after the loop\nplt.figure(figsize=(10, 6))\nplt.plot(T, s, color='dodgerblue', label='Susceptible')\nplt.plot(T, i, color='orange', label='Infected')\nplt.plot(T, r, color='olivedrab', label='Recovered')\nplt.plot(T, d, color='brown', label='Deceased')\n\n# Label the graph\nplt.xlabel('Number of Days (t)')\nplt.ylabel('Number of Individuals')\nplt.legend()\nplt.title('SIR Model Simulation')\nplt.grid(True)\n\n# Show the plot\nplt.show()",
      "metadata": {
        "trusted": true
      },
      "outputs": [],
      "execution_count": null
    },
    {
      "cell_type": "markdown",
      "source": "**SIR with Differential Equations**",
      "metadata": {}
    },
    {
      "cell_type": "markdown",
      "source": "**Question 4:**\nLook at the following implementation of SIR (adapted from the https://scipython.com/book/chapter-8-scipy/additional-examples/the-sir-epidemic-model/) using differential equations. \n\nHow is it the same and how is it different to SIRPLOT? Answer here with code and text examples.\n\nANSWER: \n\nSimilarities: Both SIRPLOT and SIR w/ DE include the same variables--total population, Suceptible, Infected, Recovered, and beta. I have modified the SIRPLOT so that the curves have colors, and the SIR w/ DE does so, too. Moreover, the legend shows both graphs have the same-color curves--blue for Susceptible, green for Recovered, and red for Deceased, and the y-axes represent population and the x-axes days. Both implementations use appending of arrays. Both use the same Python libraries--numpy, scipy, and matplotlib. Both graphs share similar shapes for each of the curves, with the exception of deceased as it is not included in SIR w/ DE. Both use derivatives for the S, I, R-- SIRPLOT states this a Sprime, Iprime, and Rprime, while SIR w/ DE defines a function def deriv(y, t, N, beta, gamma). Moreover, on both programs the derivative formulas balance each other in that an addition of one is the subtraction of another, which results in conversation of information.\n\nDifferences: SIRPLOT assigns alpha to the percent of people that came in contact and were infected, whereas SIR w/ DE calls this value beta, and has variable gamma to show the mean recovery rate. The SIR w/ DE scales the graph in the thousands on the y-axis (and represents N = 1000 people) and from 0 to 160 days on the x-axis, while the SIRPLOT has population assigned to each of the S, I, R, D variables. Moreover, SIRPLOT includes a deaths/deceased curve that was split from the recovered curve, whereas the SIR w/ DE does not but instead has a curve for the population that recovered with immunity. As far as vectors, SIR w/ DE assignes them to a single variable, while SIRPLOT has one variable per vector. SIR w/ DE divides S, I, and R by 1000, whereas SIRPLOT does not. SIR w/ DE defines a function with differential equations, and SIPLOT uses a for loop w/o DE.",
      "metadata": {}
    },
    {
      "cell_type": "code",
      "source": "# Total population, N.\nN = 1000\n# Initial number of infected and recovered individuals, I0 and R0.\nI0, R0 = 1, 0\n# Everyone else, S0, is susceptible to infection initially.\nS0 = N - I0 - R0\n# Contact rate, beta, and mean recovery rate, gamma, (in 1/days).\nbeta, gamma = 0.2, 1./10 \n# A grid of time points (in days)\nt = np.linspace(0, 160, 160)\n\n# The SIR model differential equations.\ndef deriv(y, t, N, beta, gamma):\n    S, I, R = y\n    dSdt = -beta * S * I / N\n    dIdt = beta * S * I / N - gamma * I\n    dRdt = gamma * I\n    return dSdt, dIdt, dRdt\n\n# Initial conditions vector\ny0 = S0, I0, R0\n# Integrate the SIR equations over the time grid, t.\nret = odeint(deriv, y0, t, args=(N, beta, gamma))\nS, I, R = ret.T\n\n# Plot the data on three separate curves for S(t), I(t) and R(t)\nfig = plt.figure(facecolor='w')\nax = fig.add_subplot(111, facecolor='#dddddd', axisbelow=True)\nax.plot(t, S/1000, 'b', alpha=0.5, lw=2, label='Susceptible')\nax.plot(t, I/1000, 'r', alpha=0.5, lw=2, label='Infected')\nax.plot(t, R/1000, 'g', alpha=0.5, lw=2, label='Recovered with immunity')\nax.set_xlabel('Time /days')\nax.set_ylabel('Number (1000s)')\nax.set_ylim(0, 1.2)\nax.yaxis.set_tick_params(length=0)\nax.xaxis.set_tick_params(length=0)\nax.grid(visible=True, which='major', color='w', lw=2, ls='-')  # Updated line\nlegend = ax.legend()\nlegend.get_frame().set_alpha(0.5)\nfor spine in ('top', 'right', 'bottom', 'left'):\n    ax.spines[spine].set_visible(False)\nplt.show()",
      "metadata": {
        "tags": [],
        "trusted": true
      },
      "outputs": [],
      "execution_count": null
    },
    {
      "cell_type": "code",
      "source": "# Initial conditions and parameters\ntinitial = 0  # Start at Day 0\ntfinal = 50  # Total number of days\nt = tinitial\n\na = 0.00001  # Infection rate per contact\nb = 14  # Number of days it takes to recover from an infection\n\n# Initial population groups\nS = 45400  # Number of susceptible people\nI = 2100  # Number of infected people\nR = 2500  # Number of recovered people\nD = 0.1 * R  # Number of deceased people (10% from recovered)\n\nnumberofsteps = 30  # Number of divisions in graph\ndeltat = (tfinal - tinitial) / numberofsteps  # Time step size\n\n# Arrays to store results\ns = [S]  # Array for values of S\ni = [I]  # Array for values of I\nr = [R]  # Array for values of R\nd = [D]  # Array for values of D\nT = [t]  # Array for values of time (t)\n\n# Time evolution loop\nfor k in range(1, numberofsteps + 1):\n    # Rate equations\n    Sprime = -a * S * I\n    Iprime = a * S * I - I / b\n    Rprime = I / b\n    Dprime = Rprime * 0.10  # 10% of recovered are deceased\n\n    # Update the values using the rate equations\n    deltaS = Sprime * deltat\n    deltaI = Iprime * deltat\n    deltaR = Rprime * deltat\n    deltaD = Dprime * deltat\n\n    # Update S, I, R, D for the next time step\n    S += deltaS\n    I += deltaI\n    R += deltaR\n    D += deltaD\n    t += deltat\n\n    # Append updated values to the arrays\n    s.append(S)\n    i.append(I)\n    r.append(R)\n    d.append(D)\n    T.append(t)\n\n# Plotting the results after the loop\nplt.plot(T, s, color='dodgerblue', label='Susceptible')\nplt.plot(T, i, color='orange', label='Infected')\nplt.plot(T, r, color='olivedrab', label='Recovered')\nplt.plot(T, d, color='brown', label='Deceased')\n\n# Label the graph\nplt.xlabel('Number of Days (t)')\nplt.ylabel('Number of Individuals')\nplt.legend()\nplt.grid(True)\nplt.title('SIR Model with Deaths Over Time')\nplt.show()",
      "metadata": {
        "trusted": true
      },
      "outputs": [],
      "execution_count": null
    },
    {
      "cell_type": "markdown",
      "source": "**Question 5:**\nCan you use this model to explore the Questions 2 and 3 above. Answer here.\n\nANSWER: Yes; the SIR with Differential Equations implementation can be used to find (a) the change in contagiousness when a person of possible contacts resulting in infections and (b) the amount of days it takes for a person to recover from an infection. The reason is that both models have the same equations, although written differently. To put it simply, SITPLOT's a = SIR w/ DE's beta, SITPLOT's I = SIR w/ DE's (I/N), and SITPLOT's (I/b) = SIR w/ DE's (gamma * I). First, if we wanted to change the equivalent of the SIRPLOT's a, we would simply input a different value for beta on SIR w/ DE. Second, if we wanted to change the equivalent of the SIRPLIT'S beta, we would change the value of gamma. For the latter, notice how the SIR w/ DE model already converts the value of gamma to a fraction (i.e., gamma = 1/10, which is equivalent to having b = 10 in SIRPLOT). Thus, both models can be used to answer Questions 2 and 3 above.",
      "metadata": {}
    },
    {
      "cell_type": "code",
      "source": "#Source:  https://scipython.com/book/chapter-8-scipy/additional-examples/the-sir-epidemic-model/\n#The following code is the SIR with Differential Equations implementation for Question 4.\n\n# Total population, N.\nN = 1000\n# Initial number of infected and recovered individuals, I0 and R0.\nI0, R0 = 1, 0\n# Everyone else, S0, is susceptible to infection initially.\nS0 = N - I0 - R0\n# Contact rate, beta, and mean recovery rate, gamma, (in 1/days).\nbeta, gamma = 0.2, 1./10 \n# A grid of time points (in days)\nt = np.linspace(0, 160, 160)\n\n# The SIR model differential equations.\ndef deriv(y, t, N, beta, gamma):\n    S, I, R = y\n    dSdt = -beta * S * I / N\n    dIdt = beta * S * I / N - gamma * I\n    dRdt = gamma * I\n    return dSdt, dIdt, dRdt\n\n# Initial conditions vector\ny0 = S0, I0, R0\n# Integrate the SIR equations over the time grid, t.\nret = odeint(deriv, y0, t, args=(N, beta, gamma))\nS, I, R = ret.T\n\n# Plot the data on three separate curves for S(t), I(t) and R(t)\nfig = plt.figure(facecolor='w')\nax = fig.add_subplot(111, facecolor='#dddddd', axisbelow=True)\nax.plot(t, S/1000, 'b', alpha=0.5, lw=2, label='Susceptible')\nax.plot(t, I/1000, 'r', alpha=0.5, lw=2, label='Infected')\nax.plot(t, R/1000, 'g', alpha=0.5, lw=2, label='Recovered with immunity')\nax.set_xlabel('Time /days')\nax.set_ylabel('Number (1000s)')\nax.set_ylim(0, 1.2)\nax.yaxis.set_tick_params(length=0)\nax.xaxis.set_tick_params(length=0)\nax.grid(visible=True, which='major', color='w', lw=2, ls='-')  # Updated line\nlegend = ax.legend()\nlegend.get_frame().set_alpha(0.5)\nfor spine in ('top', 'right', 'bottom', 'left'):\n    ax.spines[spine].set_visible(False)\nplt.show()",
      "metadata": {
        "tags": [],
        "trusted": true
      },
      "outputs": [],
      "execution_count": null
    },
    {
      "cell_type": "markdown",
      "source": "**Question 6:**\nHow is this implementation the same and different than SIRPLOT and the differential equation SIRmodel? Can you explore changes in the transmission coefficent and recovery rate the same way? Answer here.\n\nANSWER: \n\nSimilarities: Both SIRPLOT and SIR w/ DE explore the Susceptible, Infected, and Recovered curves. The prime equations for each of the curves balance one another in both cases. For example, SIRPLOT's Sprime = -a is its Iprime = a, and -a + a = 0. Similarly, SIRPLOT's Iprime = -(I/b) is its Rprime = (I/b), and -(I/b) + (I/b) = 0. For SIR w/ DE, dSdt = -beta is the counterpart of bIdt = beta because -beta + beta = 0, and dIdt = -(gamma * I) transfers over to dRdt = (gamma * I) because -(gamma * I) + (gamma * I) = 0. Moreover, both models share variable S for Suceptible. Thus, it is still possible to explore the changes in the transmission coefficient and recovery rate with both SIMPLOT and SIR w/ DE models.\n\nDifferences: For finding the rate of each curve, SIRPLOT uses variable names such as alpha (when contact and infection occurs) and beta (the amount of time it takes for a person to recover), whereas SIR w/ DE's equivalent of alpha is called beta and its gamma for its version beta. However, the latter gamma is actually SIRPLOT's correspondent of 1/beta. Moreover, SIRPLOT uses the unaltered variable I for the Infected curve, while SIR w/ DE divides this by population N in order to scale the y-axis range from 0 to 1.2 (representing thousands). In other words, SIRPLOT lists the total population number, whereas SIR w/ DE only shows population as a percentage. The latter may not be ideal if pharmaceutical companies need to know how much medicine to produce.",
      "metadata": {}
    },
    {
      "cell_type": "markdown",
      "source": "**SIR with Matrices**\n\n**Question 7:**\nWhat are the advantages and disadvantages of this matrix model?\n\nANSWER: \n\nAdvantages: SIR w/ Matrices has variables for total number of days, Susceptible, Infected, Recovered, and Deceased curves, and their corresponding rate equations (rnI, rI, and rD), which are directly inputted into the matrix, saving the user time. If the user has experience with matrices, the matrix code makes clear the need to assign four 4-vector arrays to a 4x4 dynamics matrix that is then multiplied with a 4-vector representing an initial state, where every person is healthy (note that the matrix rows have to correspond to the vector columns for matrix multiplication to work). This code makes the relationship Ax = B more undertandable, where Matrix A is multiplied by vector x to result in Matrix B. Having the two for loops is less work at the time of plotting the curves than having to change three lines of code every time a change needs to be made as would be the case with SIMPLOT.\n\nDisadvantages: SIR w/ Matrix can be more complicated to understand than SIMPLOT because it does not take in variables like alpha (contact and infection) and beta (time it takes to recover from an infection) values, making it more restrictive than the SIMPLOT model. Even though the code for SIR w/ Matrix is shorter than SIMPLOT, it takes serious undertstanding of matrices to know how the program works, and where to plug in numbers to get the same results as SIMPLOT. Moreover, it may be confusing to the user to see variables within the matrix and difficult to know where they should reside for the code to work properly. Perhaps a matter of preference, showing percentage on the y-axis (i.e., aS = 1) may not be ideal when trying to mass produce a cure. Instead, a unit population number would help in determining the number of vaccines needed to slow down or stop infections. Similarly, a matter of choice, I prefer to see variables and their corresponding rates separately, and interconnected with one another through variables, as in SIMPLOT, than to have them so close together and assign an individual value of all of aS, as it could take more time to figure what they are and if they will add to 100%.",
      "metadata": {}
    },
    {
      "cell_type": "code",
      "source": "T = 210  # Number of days\na = 0.05  # % new infection each day\naS = 1 - a  # % remain susceptible\nrnI = 0.04  # recover no immunity\nrI = 0.1  # recover with immunity\nrD = 0.01  # die from disease\n\n# Dynamics matrix\nA = np.matrix([[aS, rnI, 0, 0],\n                [rnI + rD, (1 - (rnI + rI + rD)), 0, 0],\n                [0, rI, 1, 0],\n                [0, rD, 0, 1]])\n\n# Initial state: everyone healthy\nx1 = np.array([1, 0, 0, 0])\nstateTraj = np.hstack([np.vstack(x1), np.zeros((4, T-1))])  # Initialize trajectory with 0s\n\n# State transition over time\nfor t in range(T-1):\n    stateTraj[:, t+1] = np.matmul(A, stateTraj[:, t])\n\n# Plotting the results\nfor i in range(len(stateTraj)):\n    plt.plot(range(T), stateTraj[i])\n\nplt.legend([\"Susceptible\", \"Infected\", \"Recovered\", \"Deceased\"])\nplt.xlabel(\"Days\")\nplt.ylabel(\"Proportion of Population\")\nplt.title(\"SIR Model Dynamics Over Time\")\nplt.grid(True)\nplt.show()",
      "metadata": {
        "trusted": true
      },
      "outputs": [],
      "execution_count": null
    },
    {
      "cell_type": "markdown",
      "source": "**Question 8:**\nRead Calculus in Context, Chapter 4. This explores additional models that can be explored using this method. \nCopy and paste SIR plot here and  modify to model the Lotka-Voerra Model from page 193 number 7. Explore some of the questions a - f on your own and add some short notes about this model. note: The scaling factor for lynx is 60 (page 194, part c).\"plot H and 60L\"\n\nb) Explain why a and b have the units hares per month per hare and hares per month per hare-lynx, respectively. What are the units of c and d? Explain why.\n\nSuppose time t is measured in months, and suppose the parameters have values\n\na = .1 hares per month per hare\n\nb = .005 hares per month per hare-lynx\n\nc = .00004 lynx per month per hare-lynx\n\nd = .04 lynx per month per lynx\n\nThis leads to the system of differential equations\n\nH′ = .1H - .005HL\n\nL′ = .00004HL - .04L\n\nANSWER: \n\nFirst, \"a\" has the units \"hares per month per hare\" because there is the natural growth rate when the population is all hares and no lynxes, which assumes that the hare population will continue to grow due to not being predated. \n\nSecond, \"b\" has the units \"hares per month per hare-lynx\" because there is a natural death rate in the hare population (prey) when there are lynxes present (predator), thus the negative sign.\n\nThird, \"c\" has the units \"lynx per month per hare-lynx\" because there is the natural growth rate when the population is all lynxes and no hares, which assumes that the lynx population will continue to grow as they prey on hares.\n\nFourth, \"d\" has the units \"lynx per month per lynx\" because there is the negative growth rate of lynxes as a result death or emigration due to the lack of hares to prey, thus the negative sign.\n\n\nc) Suppose that you start with 2000 hares and 10 lynx—that is, H(0) = 2000 and L(0) = 10. Describe what happens to the two populations. A good way to do this is to draw graphs of the functions H(t) and L(t). It will be convenient to have the Hare scale run from 0 to 3000, and the Lynx scale from 0 to 50. If you modify the program SIRPLOT, have it plot H and 60L. You should get graphs like those above. Notice that the hare and lynx populations rise and fall in a fashion similar to the rabbits and foxes, but here they oscillate—returning periodically to their original values.\n\nANSWER: \n\nHares and lynxes share a prey-predator relationship, which is represented by equations Hprime and Lprime. First, the hare population will grow logistically if there are no lynxes because hares still face other threats, such as disease and food scarcity. Second, introduce lynxes to the ecosystem so that they prey on hares, and there will be a directly proportional relationship between both populations. For example, more hares mean more food for lynxes. However, the hare population reaches a point where it stops growing (perhaps due to lack of enough resources to keep reproducing, such as food or space) and instead decreases. Since lynxes depend on their prey for survival and since there is a directly proportional relationship between both, the lynx population also decreases. Now, hares regain population numbers with the decrease in lynxes and the now available space and food. The cycle continues and the program generates a graph with peaks (growth rate from positive to negative) and valleys (growth rate from negative to positive).",
      "metadata": {
        "tags": []
      }
    },
    {
      "cell_type": "code",
      "source": "#This is a modification of SIRPLOT to fit the Lotka-Volterra model\n\n# Time parameters\ntinitial = 0  # Start time in months\ntfinal = 250  # Total time in months\nt = tinitial\n\n# Lotka-Volterra parameters\na = 0.1          # Natural growth rate of hares\nb = 0.005        # Death rate of hares per lynx\nc = 0.00004      # Natural growth rate of lynxes per hare\nd = 0.04         # Natural death rate of lynxes\n\n# Initial populations\nH = 2000         # Initial hare population\nL = 10           # Initial lynx population\n\nnumberofsteps = 30  # Number of time steps\ndeltat = (tfinal - tinitial) / numberofsteps  # Time step size\n\n# Arrays to store population values\nh = [H]  # Array for hares\nl = [L]  # Array for lynxes\nT = [t]  # Array for time values\n\nfor k in range(1, numberofsteps + 1):\n    # Rate equations\n    Hprime = a * H - b * H * L\n    Lprime = c * H * L - d * L\n\n    # Update populations\n    H += Hprime * deltat\n    L += Lprime * deltat\n\n    # Ensure populations do not drop below zero\n    H = max(H, 0)\n    L = max(L, 0)\n\n    # Store results\n    h.append(H)\n    l.append(L)\n    T.append(t)\n\n    t += deltat\n\n# Convert lists to NumPy arrays for plotting\nh_array = np.array(h)\nl_array = np.array(l)\n\n# Plotting\nplt.plot(T, h_array, color='dodgerblue', label='Hares')  # Hare population\nplt.plot(T, l_array * 60, color='red', label='Lynxes')  # Scaled lynx population\n\n# Graph labels\nplt.xlabel('Time (months)')\nplt.ylabel('Population')\nplt.legend()\nplt.title('Hare and Lynx Population Dynamics')\nplt.xlim([0, tfinal])\nplt.ylim([0, max(max(h_array), max(l_array * 60)) + 500])  # Adjust y-axis limit for clarity\nplt.grid()\nplt.show()",
      "metadata": {
        "trusted": true
      },
      "outputs": [],
      "execution_count": null
    },
    {
      "cell_type": "markdown",
      "source": "**Question 9:**\nChapter 4 explores additional models that can be explored using this method. \nCopy and paste SIR plot here and  modify to model the Fermentation Model from page 195 numbers 8/9/10/11.  HOWEVER, to implement the model you must work through all the steps. YOu may discuss in Piazza.",
      "metadata": {}
    },
    {
      "cell_type": "code",
      "source": "import numpy as np\nimport matplotlib.pyplot as plt\n\n# Time parameters\ntinitial = 0  # Start time in days\ntfinal = 100  # Total time in days\nnumberofsteps = 1000  # Number of time steps\nt = np.linspace(tinitial, tfinal, numberofsteps)\n\n# Initial conditions\nS = 1000  # Initial substrate\nX = 10    # Initial biomass\nP = 0     # Initial product\n\n# Parameters\nmu = 0.1  # Specific growth rate\nd = 0.05  # Decay rate of biomass\nY = 0.1   # Yield coefficient\n\n# Arrays to store results\nsubstrate = [S]\nbiomass = [X]\nproduct = [P]\n\n# Time step size\ndt = tfinal / numberofsteps\n\n# Time evolution loop\nfor _ in range(numberofsteps):\n    dSdt = -mu * X\n    dXdt = mu * X - d * X\n    dPdt = Y * mu * X\n    \n    # Update populations\n    S += dSdt * dt\n    X += dXdt * dt\n    P += dPdt * dt\n    \n    # Ensure populations do not drop below zero\n    S = max(S, 0)\n    X = max(X, 0)\n    P = max(P, 0)\n    \n    # Store results\n    substrate.append(S)\n    biomass.append(X)\n    product.append(P)\n\n# Convert lists to NumPy arrays for plotting\nsubstrate_array = np.array(substrate)\nbiomass_array = np.array(biomass)\nproduct_array = np.array(product)\n\n# Plotting\nplt.figure(figsize=(12, 6))\nplt.plot(t, substrate_array[:numberofsteps], color='dodgerblue', label='Substrate (S)')\nplt.plot(t, biomass_array[:numberofsteps], color='orange', label='Biomass (X)')\nplt.plot(t, product_array[:numberofsteps], color='green', label='Product (P)')\n\n# Graph labels\nplt.xlabel('Time (days)')\nplt.ylabel('Concentration')\nplt.legend()\nplt.title('Fermentation Model Dynamics')\nplt.xlim([0, tfinal])\nplt.ylim([0, max(max(substrate_array), max(biomass_array), max(product_array)) + 100])\nplt.grid()\nplt.show()",
      "metadata": {
        "trusted": true
      },
      "outputs": [],
      "execution_count": null
    },
    {
      "cell_type": "markdown",
      "source": "\n**Question 10:** \n\nCreate your own species (or other) SIR type model. \n\nFor example, can you add elements to SIR that model some percentage of infected dying? Or immunity that is not permentant?  Or create an ecosystem of your own (Aliens eat bears,bears eat mice, Mice drink wine?). You may discuss ideas on Piazza and I can help with your equations :)\n\nProvide code, sample output, and description.",
      "metadata": {
        "tags": []
      }
    },
    {
      "cell_type": "code",
      "source": "#The output will show how the populations of susceptible, infected, \n#recovered, and deceased Zorbs change over time.\n\n\n# Parameters\nN = 10000      # Total population\nI0 = 100       # Initial infected\nS0 = N - I0    # Initial susceptible\nR0 = 0         # Initial recovered\nD0 = 0         # Initial deceased\nt_initial = 0  # Start time\nt_final = 160  # End time\ntime_steps = 160  # Number of steps\ndt = (t_final - t_initial) / time_steps  # Time step size\n\n# Arrays to store values\nS = [S0]\nI = [I0]\nR = [R0]\nD = [D0]\nT = [t_initial]\n\n# Rates\nbeta = 0.3   # Infection rate\ngamma = 0.1  # Recovery rate\ndelta = 0.05 # Mortality rate\nimmunity_duration = 20  # Days of immunity\n\n# Time evolution loop\nfor t in range(1, time_steps + 1):\n    S_prev = S[-1]\n    I_prev = I[-1]\n    R_prev = R[-1]\n    D_prev = D[-1]\n\n    # Rate equations\n    new_infections = beta * S_prev * I_prev / N\n    recoveries = gamma * I_prev\n    deaths = delta * I_prev\n\n    # Update populations\n    S_new = max(0, S_prev - new_infections + recoveries)  # Susceptible\n    I_new = max(0, I_prev + new_infections - recoveries - deaths)  # Infected\n    R_new = R_prev + recoveries if t < immunity_duration else max(0, R_prev - recoveries)  # Recovered\n    D_new = D_prev + deaths  # Deceased\n\n    # Append updated values\n    S.append(S_new)\n    I.append(I_new)\n    R.append(R_new)\n    D.append(D_new)\n    T.append(t * dt)\n\n# Convert lists to NumPy arrays for plotting\nS_array = np.array(S)\nI_array = np.array(I)\nR_array = np.array(R)\nD_array = np.array(D)\n\n# Plotting\nplt.figure(figsize=(12, 6))\nplt.plot(T, S_array, color='dodgerblue', label='Susceptible (S)')\nplt.plot(T, I_array, color='orange', label='Infected (I)')\nplt.plot(T, R_array, color='green', label='Recovered (R)')\nplt.plot(T, D_array, color='red', label='Deceased (D)')\n\n# Labels and title\nplt.xlabel('Time (days)')\nplt.ylabel('Population')\nplt.title('SIR Model with Temporary Immunity and Mortality')\nplt.legend()\nplt.xlim([0, t_final])\nplt.ylim([0, N])\nplt.grid()\nplt.show()",
      "metadata": {
        "tags": [],
        "trusted": true
      },
      "outputs": [],
      "execution_count": null
    },
    {
      "cell_type": "markdown",
      "source": "**Finally:**\n    \nWhat are some thoughts about modeling from this project? \nWhich model was the simpliest?\nWhich expressed the underlying ideas best?\nWhich was good for a \"snapshot\" of the ideas?\nAs we use more packages for mathematical modelling do we sometimes loss track of the ideas?\n\nANSWER:\nWriting the SIRPLOT code was the most challenging part of the project, but also the most rewarding because, once it ran correctly, I was able to answer many of the questions and learn quite a lot of information about epidemics and predator-prey relationships. The simplest model for me was the matrix one, although I think it is too simple to be able to find much with it. Moreover, SIRPLOT seems to both express the underlying ideas the best, as well as provide a good snapshot, of the ideas because it is the most straightforward to write and modify. Finally, incremeting the number of mathematical modeling packages can be distracting because one may focus more on making the code work than to remember what it is about.",
      "metadata": {}
    },
    {
      "cell_type": "markdown",
      "source": "**Want more?** Check out Chapter 8 in Calculus in Context. This project is the gateway to Dynamical Systems.",
      "metadata": {}
    },
    {
      "cell_type": "code",
      "source": "",
      "metadata": {
        "trusted": true
      },
      "outputs": [],
      "execution_count": null
    }
  ]
}